{
 "cells": [
  {
   "cell_type": "code",
   "execution_count": 1,
   "metadata": {},
   "outputs": [],
   "source": [
    "from src.experiments import StockMixer_Table2, LSTM_Table2, Linear_Table2\n",
    "from src.utils import set_seed\n",
    "import numpy as np"
   ]
  },
  {
   "cell_type": "code",
   "execution_count": null,
   "metadata": {},
   "outputs": [],
   "source": [
    "# global params\n",
    "epochs = 100\n",
    "seeds = [1, 2, 3, 4, 5]"
   ]
  },
  {
   "cell_type": "markdown",
   "metadata": {},
   "source": [
    "# StockMixer"
   ]
  },
  {
   "cell_type": "code",
   "execution_count": null,
   "metadata": {},
   "outputs": [],
   "source": [
    "mse_lst = []\n",
    "IC_lst = []\n",
    "RIC_lst = []\n",
    "sharpe5_lst = []\n",
    "prec_10_lst = []\n",
    "\n",
    "for seed in seeds:\n",
    "    set_seed(seed)\n",
    "    test_performance = StockMixer_Table2(seq_len=16,\n",
    "                                    hidden_dim=64,\n",
    "                                    market_dim=40,\n",
    "                                    scale_factors=[1, 2, 4, 8],\n",
    "                                    alpha=0.1,\n",
    "                                    epochs=epochs,\n",
    "                                    seed=seed,\n",
    "                                    load_weights=True,\n",
    "                                    )\n",
    "    mse_lst.append(test_performance[\"mse\"])\n",
    "    IC_lst.append(test_performance[\"IC\"])\n",
    "    RIC_lst.append(test_performance[\"RIC\"])\n",
    "    sharpe5_lst.append(test_performance[\"sharpe5\"])\n",
    "    prec_10_lst.append(test_performance[\"prec_10\"])"
   ]
  },
  {
   "cell_type": "code",
   "execution_count": 4,
   "metadata": {},
   "outputs": [
    {
     "name": "stdout",
     "output_type": "stream",
     "text": [
      "MSE: 0.0021 +/- 0.0023\n",
      "IC: 0.0224 +/- 0.0029\n",
      "RIC: 0.3115 +/- 0.0199\n",
      "Sharpe5: 1.2677 +/- 0.2157\n",
      "Prec@10: 0.5237 +/- 0.0073\n"
     ]
    }
   ],
   "source": [
    "print(f\"MSE: {np.mean(mse_lst):0.4f} +/- {np.std(mse_lst):0.4f}\")\n",
    "print(f\"IC: {np.mean(IC_lst):0.4f} +/- {np.std(IC_lst):0.4f}\")\n",
    "print(f\"RIC: {np.mean(RIC_lst):0.4f} +/- {np.std(RIC_lst):0.4f}\")\n",
    "print(f\"Sharpe5: {np.mean(sharpe5_lst):0.4f} +/- {np.std(sharpe5_lst):0.4f}\")\n",
    "print(f\"Prec@10: {np.mean(prec_10_lst):0.4f} +/- {np.std(prec_10_lst):0.4f}\")"
   ]
  },
  {
   "cell_type": "markdown",
   "metadata": {},
   "source": [
    "# LSTM"
   ]
  },
  {
   "cell_type": "code",
   "execution_count": 5,
   "metadata": {},
   "outputs": [],
   "source": [
    "mse_lst = []\n",
    "IC_lst = []\n",
    "RIC_lst = []\n",
    "sharpe5_lst = []\n",
    "prec_10_lst = []\n",
    "\n",
    "for seed in seeds:\n",
    "    set_seed(seed)\n",
    "    test_performance = LSTM_Table2(seq_len=16,\n",
    "                                   hidden_dim=64,\n",
    "                                   alpha=0.1,\n",
    "                                   epochs=epochs,\n",
    "                                   seed=seed,\n",
    "                                   load_weights=True,\n",
    "                                   )\n",
    "    mse_lst.append(test_performance[\"mse\"])\n",
    "    IC_lst.append(test_performance[\"IC\"])\n",
    "    RIC_lst.append(test_performance[\"RIC\"])\n",
    "    sharpe5_lst.append(test_performance[\"sharpe5\"])\n",
    "    prec_10_lst.append(test_performance[\"prec_10\"])"
   ]
  },
  {
   "cell_type": "code",
   "execution_count": 6,
   "metadata": {},
   "outputs": [
    {
     "name": "stdout",
     "output_type": "stream",
     "text": [
      "MSE: 0.0004 +/- 0.0001\n",
      "IC: 0.0322 +/- 0.0023\n",
      "RIC: 0.3536 +/- 0.0260\n",
      "Sharpe5: 1.0687 +/- 0.1403\n",
      "Prec@10: 0.5278 +/- 0.0019\n"
     ]
    }
   ],
   "source": [
    "print(f\"MSE: {np.mean(mse_lst):0.4f} +/- {np.std(mse_lst):0.4f}\")\n",
    "print(f\"IC: {np.mean(IC_lst):0.4f} +/- {np.std(IC_lst):0.4f}\")\n",
    "print(f\"RIC: {np.mean(RIC_lst):0.4f} +/- {np.std(RIC_lst):0.4f}\")\n",
    "print(f\"Sharpe5: {np.mean(sharpe5_lst):0.4f} +/- {np.std(sharpe5_lst):0.4f}\")\n",
    "print(f\"Prec@10: {np.mean(prec_10_lst):0.4f} +/- {np.std(prec_10_lst):0.4f}\")"
   ]
  },
  {
   "cell_type": "markdown",
   "metadata": {},
   "source": [
    "# Linear"
   ]
  },
  {
   "cell_type": "code",
   "execution_count": 7,
   "metadata": {},
   "outputs": [],
   "source": [
    "mse_lst = []\n",
    "IC_lst = []\n",
    "RIC_lst = []\n",
    "sharpe5_lst = []\n",
    "prec_10_lst = []\n",
    "\n",
    "for seed in seeds:\n",
    "    set_seed(seed)\n",
    "    test_performance = Linear_Table2(seq_len=16,\n",
    "                                     hidden_dim=64,\n",
    "                                     alpha=0.1,\n",
    "                                     epochs=epochs,\n",
    "                                     seed=seed,\n",
    "                                     load_weights=True,\n",
    "                                     )\n",
    "    mse_lst.append(test_performance[\"mse\"])\n",
    "    IC_lst.append(test_performance[\"IC\"])\n",
    "    RIC_lst.append(test_performance[\"RIC\"])\n",
    "    sharpe5_lst.append(test_performance[\"sharpe5\"])\n",
    "    prec_10_lst.append(test_performance[\"prec_10\"])"
   ]
  },
  {
   "cell_type": "code",
   "execution_count": 8,
   "metadata": {},
   "outputs": [
    {
     "name": "stdout",
     "output_type": "stream",
     "text": [
      "MSE: 0.0009 +/- 0.0004\n",
      "IC: 0.0336 +/- 0.0009\n",
      "RIC: 0.3423 +/- 0.0162\n",
      "Sharpe5: 1.2344 +/- 0.3063\n",
      "Prec@10: 0.5259 +/- 0.0058\n"
     ]
    }
   ],
   "source": [
    "print(f\"MSE: {np.mean(mse_lst):0.4f} +/- {np.std(mse_lst):0.4f}\")\n",
    "print(f\"IC: {np.mean(IC_lst):0.4f} +/- {np.std(IC_lst):0.4f}\")\n",
    "print(f\"RIC: {np.mean(RIC_lst):0.4f} +/- {np.std(RIC_lst):0.4f}\")\n",
    "print(f\"Sharpe5: {np.mean(sharpe5_lst):0.4f} +/- {np.std(sharpe5_lst):0.4f}\")\n",
    "print(f\"Prec@10: {np.mean(prec_10_lst):0.4f} +/- {np.std(prec_10_lst):0.4f}\")"
   ]
  }
 ],
 "metadata": {
  "kernelspec": {
   "display_name": ".venv",
   "language": "python",
   "name": "python3"
  },
  "language_info": {
   "codemirror_mode": {
    "name": "ipython",
    "version": 3
   },
   "file_extension": ".py",
   "mimetype": "text/x-python",
   "name": "python",
   "nbconvert_exporter": "python",
   "pygments_lexer": "ipython3",
   "version": "3.12.1"
  }
 },
 "nbformat": 4,
 "nbformat_minor": 2
}
