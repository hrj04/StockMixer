{
 "cells": [
  {
   "cell_type": "code",
   "execution_count": 1,
   "metadata": {},
   "outputs": [],
   "source": [
    "from src.experiments import StockMixer_Table3\n",
    "from src.utils import set_seed\n",
    "import numpy as np"
   ]
  },
  {
   "cell_type": "code",
   "execution_count": 2,
   "metadata": {},
   "outputs": [],
   "source": [
    "# global params\n",
    "epochs = 50 \n",
    "seeds = [1, 2, 3]"
   ]
  },
  {
   "cell_type": "code",
   "execution_count": 3,
   "metadata": {},
   "outputs": [
    {
     "name": "stdout",
     "output_type": "stream",
     "text": [
      "MSE_wo_indicator: 0.0078 +/- 0.0094\n",
      "MSE_wo_time: 0.0010 +/- 0.0003\n",
      "MSE_wo_stock: 0.0005 +/- 0.0001\n",
      "IC_wo_indicator: 0.0124 +/- 0.0030\n",
      "IC_wo_time: 0.0294 +/- 0.0070\n",
      "IC_wo_stock: 0.0316 +/- 0.0038\n",
      "RIC_wo_indicator: 0.1973 +/- 0.0492\n",
      "RIC_wo_time: 0.3777 +/- 0.0488\n",
      "RIC_wo_stock: 0.4186 +/- 0.0439\n"
     ]
    }
   ],
   "source": [
    "mse_wo_indicator_lst = []\n",
    "mse_wo_time_lst = []\n",
    "mse_wo_stock_lst = []\n",
    "\n",
    "IC_wo_indicator_lst = []\n",
    "IC_wo_time_lst = []\n",
    "IC_wo_stock_lst = []\n",
    "\n",
    "RIC_wo_indicator_lst = []\n",
    "RIC_wo_time_lst = []\n",
    "RIC_wo_stock_lst = []\n",
    "\n",
    "for seed in seeds:\n",
    "    set_seed(seed)\n",
    "    test_performance_wo_indicator, test_performance_wo_time, test_performance_wo_stock = StockMixer_Table3(seq_len=16,\n",
    "                                        hidden_dim=64,\n",
    "                                        market_dim=40,\n",
    "                                        scale_factors=[1, 2, 4, 8],\n",
    "                                        alpha=0.1,\n",
    "                                        epochs=epochs,\n",
    "                                        seed=seed,\n",
    "                                        load_weights=True)\n",
    "    mse_wo_indicator_lst.append(test_performance_wo_indicator[\"mse\"])\n",
    "    mse_wo_time_lst.append(test_performance_wo_time[\"mse\"])\n",
    "    mse_wo_stock_lst.append(test_performance_wo_stock[\"mse\"])\n",
    "    \n",
    "    IC_wo_indicator_lst.append(test_performance_wo_indicator[\"IC\"])\n",
    "    IC_wo_time_lst.append(test_performance_wo_time[\"IC\"])\n",
    "    IC_wo_stock_lst.append(test_performance_wo_stock[\"IC\"])\n",
    "    \n",
    "    RIC_wo_indicator_lst.append(test_performance_wo_indicator[\"RIC\"])\n",
    "    RIC_wo_time_lst.append(test_performance_wo_time[\"RIC\"])\n",
    "    RIC_wo_stock_lst.append(test_performance_wo_stock[\"RIC\"])\n",
    "\n",
    "print(f\"MSE_wo_indicator: {np.mean(mse_wo_indicator_lst):0.4f} +/- {np.std(mse_wo_indicator_lst):0.4f}\")\n",
    "print(f\"MSE_wo_time: {np.mean(mse_wo_time_lst):0.4f} +/- {np.std(mse_wo_time_lst):0.4f}\")\n",
    "print(f\"MSE_wo_stock: {np.mean(mse_wo_stock_lst):0.4f} +/- {np.std(mse_wo_stock_lst):0.4f}\")\n",
    "\n",
    "print(f\"IC_wo_indicator: {np.mean(IC_wo_indicator_lst):0.4f} +/- {np.std(IC_wo_indicator_lst):0.4f}\")\n",
    "print(f\"IC_wo_time: {np.mean(IC_wo_time_lst):0.4f} +/- {np.std(IC_wo_time_lst):0.4f}\")\n",
    "print(f\"IC_wo_stock: {np.mean(IC_wo_stock_lst):0.4f} +/- {np.std(IC_wo_stock_lst):0.4f}\")\n",
    "\n",
    "print(f\"RIC_wo_indicator: {np.mean(RIC_wo_indicator_lst):0.4f} +/- {np.std(RIC_wo_indicator_lst):0.4f}\")\n",
    "print(f\"RIC_wo_time: {np.mean(RIC_wo_time_lst):0.4f} +/- {np.std(RIC_wo_time_lst):0.4f}\")\n",
    "print(f\"RIC_wo_stock: {np.mean(RIC_wo_stock_lst):0.4f} +/- {np.std(RIC_wo_stock_lst):0.4f}\")"
   ]
  }
 ],
 "metadata": {
  "kernelspec": {
   "display_name": ".venv",
   "language": "python",
   "name": "python3"
  },
  "language_info": {
   "codemirror_mode": {
    "name": "ipython",
    "version": 3
   },
   "file_extension": ".py",
   "mimetype": "text/x-python",
   "name": "python",
   "nbconvert_exporter": "python",
   "pygments_lexer": "ipython3",
   "version": "3.12.1"
  }
 },
 "nbformat": 4,
 "nbformat_minor": 2
}
